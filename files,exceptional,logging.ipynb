{
  "nbformat": 4,
  "nbformat_minor": 0,
  "metadata": {
    "colab": {
      "provenance": []
    },
    "kernelspec": {
      "name": "python3",
      "display_name": "Python 3"
    },
    "language_info": {
      "name": "python"
    }
  },
  "cells": [
    {
      "cell_type": "markdown",
      "source": [
        "Files, exceptional handling, logging and\n",
        "memory management Questions"
      ],
      "metadata": {
        "id": "dp2WMIt8JVxA"
      }
    },
    {
      "cell_type": "markdown",
      "source": [
        "1.What is the difference between interpreted and compiled languages\n",
        "=>\n",
        "* 1. Compiled Languages\n",
        "* Definition: The source code is translated entirely into * machine code (binary) by a compiler before execution.\n",
        "* Execution Process:\n",
        "* You write code (e.g., in C, C++).\n",
        "* Compiler translates it into an executable file (.exe, .out).\n",
        "The CPU directly runs that executable.\n",
        "* Speed: Usually faster, because the translation happens once before execution.\n",
        "* Portability: The compiled code is specific to a system (e.g., Windows executable won’t run directly on Linux).\n",
        "* Examples: C, C++, Rust, Go, Swift.\n",
        "* 2. Interpreted Languages\n",
        "* Definition: The source code is executed line by line by an interpreter at runtime.\n",
        "* Execution Process:\n",
        "*  You write code (e.g., in Python, JavaScript).\n",
        "* The interpreter reads the code and executes it directly.\n",
        "* Speed: Generally slower, because translation happens during execution.\n",
        "* Portability: High, because the interpreter takes care of running the same code on different platforms.\n",
        "* Examples: Python, JavaScript, Ruby, PHP."
      ],
      "metadata": {
        "id": "ZIfCn2cjJYW3"
      }
    },
    {
      "cell_type": "markdown",
      "source": [
        "2.What is exception handling in Python\n",
        "=>\n",
        "* Exception handling in Python allows us to deal with these runtime errors gracefully so that the program does not crash abruptly.\n",
        "* python uses try–except blocks for handling."
      ],
      "metadata": {
        "id": "BEGIBnUZLXWm"
      }
    },
    {
      "cell_type": "markdown",
      "source": [
        "3.What is the purpose of the finally block in exception handling\n",
        "=>\n",
        "* Its main purpose is to perform cleanup actions, like:\n",
        "* Closing files\n",
        "* Releasing memory or network resources\n",
        "* Closing database connections\n",
        "* Printing completion messages"
      ],
      "metadata": {
        "id": "A8_X030OLzj2"
      }
    },
    {
      "cell_type": "markdown",
      "source": [
        "4.What is logging in Python\n",
        "=>\n",
        "* Logging is the process of recording messages (information, warnings, errors, etc.) from your program.\n",
        "* Instead of using print() for debugging, Python’s built-in logging module provides a flexible way to keep track of what happens during execution.\n",
        "* It helps in debugging, monitoring, and maintaining applications."
      ],
      "metadata": {
        "id": "qDCchg7nMKSG"
      }
    },
    {
      "cell_type": "markdown",
      "source": [
        "5.What is the significance of the __del__ method in Python\n",
        "=>\n",
        "* __del__ is a destructor method in Python.\n",
        "* It is automatically called when an object is about to be destroyed (i.e., when it is no longer needed, and Python’s garbage collector deletes it)."
      ],
      "metadata": {
        "id": "rKv0Wqr1MZSN"
      }
    },
    {
      "cell_type": "markdown",
      "source": [
        "6.What is the difference between import and from ... import in Python\n",
        "=>\n",
        "* Use import when you want the whole module.\n",
        "* Use from ... import when you want specific parts of a module.\n",
        "* Avoid from ... import * in large projects to prevent name conflicts."
      ],
      "metadata": {
        "id": "YbCclvHCMtQ1"
      }
    },
    {
      "cell_type": "markdown",
      "source": [
        "7.How can you handle multiple exceptions in Python\n",
        "=>\n",
        "* Handle specific exceptions whenever possible, and only use a generic Exception when you must log or debug unknown errors."
      ],
      "metadata": {
        "id": "aBOc2jiWM8Pu"
      }
    },
    {
      "cell_type": "markdown",
      "source": [
        "8.What is the purpose of the with statement when handling files in Python\n",
        "=>\n",
        "* The purpose of the with statement in file handling is to make sure files are closed automatically and safely, reducing the risk of memory leaks or file corruption. It’s the recommended way to handle files in Python."
      ],
      "metadata": {
        "id": "pzybOcaLNKNV"
      }
    },
    {
      "cell_type": "markdown",
      "source": [
        "9.What is the difference between multithreading and multiprocessing\n",
        "=>\n",
        "* Use multithreading for I/O-bound tasks (fast switching, shared memory).\n",
        "* Use multiprocessing for CPU-bound tasks (true parallelism on multiple cores)."
      ],
      "metadata": {
        "id": "Ocye7AWjNV1N"
      }
    },
    {
      "cell_type": "markdown",
      "source": [
        "10.What are the advantages of using logging in a program\n",
        "=>\n",
        "* Logging makes programs more reliable, maintainable, and easier to debug by providing structured, configurable, and persistent ways of tracking events and errors."
      ],
      "metadata": {
        "id": "TbAP0aU6NimW"
      }
    },
    {
      "cell_type": "markdown",
      "source": [
        "11.What is memory management in Python\n",
        "=>\n",
        "* Memory management in Python is handled by the Python Memory Manager.\n",
        "* It uses:\n",
        "* Private heap for object storage.\n",
        "* Reference counting to track objects.\n",
        "* Garbage collector to free unused memory.\n",
        "* This makes Python safe, efficient, and developer-friendly compared to languages where memory must be managed manually."
      ],
      "metadata": {
        "id": "ZiZMEJBfNuW_"
      }
    },
    {
      "cell_type": "markdown",
      "source": [
        "12. What are the basic steps involved in exception handling in Python\n",
        "=>\n",
        "* try → Put risky code inside.\n",
        "* except → Handle specific (or all) exceptions.\n",
        "* else (optional) → Run code if no exception occurs.\n",
        "* finally (optional) → Always execute cleanup code."
      ],
      "metadata": {
        "id": "wxnw2El0ODwX"
      }
    },
    {
      "cell_type": "markdown",
      "source": [
        "13.Why is memory management important in Python\n",
        "=>\n",
        "* Memory management in Python is important because it:\n",
        "* Uses resources efficiently.\n",
        "* Prevents memory leaks.\n",
        "* Improves performance.\n",
        "* Reduces programmer burden with automatic garbage collection."
      ],
      "metadata": {
        "id": "Ik4q42fbOY62"
      }
    },
    {
      "cell_type": "markdown",
      "source": [
        "14.What is the role of try and except in exception handling\n",
        "=>\n",
        "* try → Wraps risky code that might throw an error.\n",
        "* except → Defines how to handle the error if it occurs.\n",
        "* Together, they ensure the program continues running safely instead of crashing."
      ],
      "metadata": {
        "id": "ttUm-4xrOn6f"
      }
    },
    {
      "cell_type": "markdown",
      "source": [
        "15.How does Python's garbage collection system work\n",
        "=>\n",
        "* Reference counting (immediate cleanup when ref count = 0).\n",
        "* Garbage collector (to handle circular references).\n",
        "* Generational approach (efficiently manages short-lived vs long-lived objects)."
      ],
      "metadata": {
        "id": "EGMDO6FBO0rm"
      }
    },
    {
      "cell_type": "markdown",
      "source": [
        "16.What is the purpose of the else block in exception handling\n",
        "=>\n",
        "* The else block in exception handling ensures that success-case code runs only if no exception was raised. It helps keep the try block focused only on \"risky code\" and separates normal flow from error handling."
      ],
      "metadata": {
        "id": "Clsd8xrkPGHv"
      }
    },
    {
      "cell_type": "markdown",
      "source": [
        "17.What are the common logging levels in Python\n",
        "=>\n",
        "* DEBUG=\t10=\tDetailed info for debugging\n",
        "* INFO\t=20\t=Confirmation things work\n",
        "* WARNING\t=30\t=Something unexpected, but program continues\n",
        "* ERROR\t=40\t=Error occurred, program affected\n",
        "* CRITICAL=\t50\t=Severe error, program may stop"
      ],
      "metadata": {
        "id": "DaYa-FC_PQHu"
      }
    },
    {
      "cell_type": "markdown",
      "source": [
        "18.What is the difference between os.fork() and multiprocessing in Python\n",
        "=>\n",
        "* Use os.fork() only if you need low-level process control on Unix-like systems.\n",
        "* Use multiprocessing for portable, high-level, safe, and feature-rich process management."
      ],
      "metadata": {
        "id": "nPQ20kAyPu8P"
      }
    },
    {
      "cell_type": "markdown",
      "source": [
        "19. What is the importance of closing a file in Python\n",
        "=>\n",
        "* free system resources\n",
        "* Ensure all data is written correctly\n",
        "* Prevent corruption and conflicts"
      ],
      "metadata": {
        "id": "0pixt9KFP9Ln"
      }
    },
    {
      "cell_type": "markdown",
      "source": [
        "20.What is the difference between file.read() and file.readline() in Python\n",
        "=>\n",
        "* Use read() when you want everything at once.\n",
        "* Use readline() when you want to process line by line."
      ],
      "metadata": {
        "id": "b_cM-D4NQQpv"
      }
    },
    {
      "cell_type": "markdown",
      "source": [
        "21.What is the logging module in Python used for\n",
        "=>\n",
        "* Record program events\n",
        "* Debug and trace errors\n",
        "* Save logs for monitoring\n",
        "* Provide more control than print"
      ],
      "metadata": {
        "id": "c6De94vCQchI"
      }
    },
    {
      "cell_type": "markdown",
      "source": [
        "22.What is the os module in Python used for in file handling\n",
        "=>\n",
        "* Work with files (exists, remove, rename, getsize)\n",
        "* Manage directories (mkdir, rmdir, listdir, chdir)\n",
        "* Get file paths and metadata (abspath, isfile, isdir)"
      ],
      "metadata": {
        "id": "-M1Yfx2RQvzX"
      }
    },
    {
      "cell_type": "markdown",
      "source": [
        "23.What are the challenges associated with memory management in Python\n",
        "=>\n",
        "* Python handles memory automatically using a garbage collector and dynamic memory allocation, but there are still some challenges developers face:"
      ],
      "metadata": {
        "id": "AG9-IevYRBGw"
      }
    },
    {
      "cell_type": "markdown",
      "source": [
        "24. How do you raise an exception manually in Python\n",
        "=>\n",
        "* Use raise to throw an exception manually.\n",
        "* You can raise built-in exceptions (ValueError, TypeError, etc.) or custom exceptions.\n",
        "* Useful for validations, enforcing rules, and error handling in programs."
      ],
      "metadata": {
        "id": "P70MAbPtRLkv"
      }
    },
    {
      "cell_type": "markdown",
      "source": [
        "25.Why is it important to use multithreading in certain applications\n",
        "=>\n",
        "* Keeps programs responsive.\n",
        "* Speeds up I/O-bound tasks.\n",
        "* Provides concurrency and sometimes parallelism."
      ],
      "metadata": {
        "id": "7GeiazQdRXPv"
      }
    },
    {
      "cell_type": "markdown",
      "source": [
        "practical questions"
      ],
      "metadata": {
        "id": "Bp3TCuNERncW"
      }
    },
    {
      "cell_type": "code",
      "source": [
        "#How can you open a file for writing in Python and write a string to it\n",
        "# Open a file in write mode\n",
        "file = open(\"example.txt\", \"w\")\n",
        "\n",
        "\n",
        "# Write a string to the file\n",
        "file.write(\"Hello, this is my first file write in Python!\")\n",
        "\n",
        "\n",
        "# Always close the file\n",
        "file.close()\n",
        "\n"
      ],
      "metadata": {
        "id": "ARKGccFFqDio"
      },
      "execution_count": 17,
      "outputs": []
    },
    {
      "cell_type": "code",
      "source": [
        "#Write a Python program to read the contents of a file and print each lineF\n",
        "# Open the file in read mode\n",
        "with open(\"example.txt\", \"r\") as file:\n",
        "    # Loop through each line in the file\n",
        "    for line in file:\n",
        "        # Print the line (strip removes extra newline at the end)\n",
        "        print(line.strip())\n"
      ],
      "metadata": {
        "colab": {
          "base_uri": "https://localhost:8080/"
        },
        "id": "yitpUmraqKho",
        "outputId": "877d4a60-b8e7-4052-af57-94350d0b2ff7"
      },
      "execution_count": 18,
      "outputs": [
        {
          "output_type": "stream",
          "name": "stdout",
          "text": [
            "Hello, this is my first file write in Python!\n"
          ]
        }
      ]
    },
    {
      "cell_type": "code",
      "source": [
        "#How would you handle a case where the file doesn't exist while trying to open it for reading\n",
        "try:\n",
        "    with open(\"example.txt\", \"r\") as file:\n",
        "        for line in file:\n",
        "            print(line.strip())\n",
        "except FileNotFoundError:\n",
        "    print(\"Error: The file does not exist. Please check the filename.\")\n",
        "\n",
        "\n"
      ],
      "metadata": {
        "colab": {
          "base_uri": "https://localhost:8080/"
        },
        "id": "U-K4GRVPqOO4",
        "outputId": "25b4406f-0448-443a-a6f1-fcd0aecd187f"
      },
      "execution_count": 19,
      "outputs": [
        {
          "output_type": "stream",
          "name": "stdout",
          "text": [
            "Hello, this is my first file write in Python!\n"
          ]
        }
      ]
    },
    {
      "cell_type": "code",
      "source": [
        "#Write a Python script that reads from one file and writes its content to another file\n",
        "# Filenames\n",
        "source_file = \"source.txt\"\n",
        "destination_file = \"destination.txt\"\n",
        "\n",
        "try:\n",
        "    # Open source file for reading\n",
        "    with open(source_file, \"r\") as src:\n",
        "        content = src.read()\n",
        "\n",
        "    # Open destination file for writing\n",
        "    with open(destination_file, \"w\") as dest:\n",
        "        dest.write(content)\n",
        "\n",
        "    print(f\"Contents of '{source_file}' copied to '{destination_file}' successfully.\")\n",
        "\n",
        "except FileNotFoundError:\n",
        "    print(f\"Error: The file '{source_file}' does not exist.\")\n",
        "\n"
      ],
      "metadata": {
        "colab": {
          "base_uri": "https://localhost:8080/"
        },
        "id": "QFZi6-Z8qRef",
        "outputId": "198bb943-5459-4d46-d671-0d5ea5ef4881"
      },
      "execution_count": 22,
      "outputs": [
        {
          "output_type": "stream",
          "name": "stdout",
          "text": [
            "Error: The file 'source.txt' does not exist.\n"
          ]
        }
      ]
    },
    {
      "cell_type": "code",
      "source": [
        "#How would you catch and handle division by zero error in Python\n",
        "try:\n",
        "    result = 10 / 0\n",
        "    print(\"Result:\", result)\n",
        "\n",
        "\n",
        "except ZeroDivisionError:\n",
        "    print(\"Error: Division by zero is not allowed.\")\n",
        "\n",
        "\n"
      ],
      "metadata": {
        "colab": {
          "base_uri": "https://localhost:8080/"
        },
        "id": "ZnCnR4y_qgYn",
        "outputId": "b9f57de6-abe1-46f1-b9c3-b4f0ee1e213e"
      },
      "execution_count": 23,
      "outputs": [
        {
          "output_type": "stream",
          "name": "stdout",
          "text": [
            "Error: Division by zero is not allowed.\n"
          ]
        }
      ]
    },
    {
      "cell_type": "code",
      "source": [
        "#Write a Python program that logs an error message to a log file when a division by zero exception occurs\n",
        "import logging\n",
        "\n",
        "\n",
        "# Configure logging to write to a file\n",
        "logging.basicConfig(filename=\"error.log\", level=logging.ERROR, format=\"%(asctime)s - %(levelname)s - %(message)s\")\n",
        "\n",
        "\n",
        "try:\n",
        "    result = 10 / 0\n",
        "    print(\"Result:\", result)\n",
        "\n",
        "\n",
        "except ZeroDivisionError:\n",
        "    logging.error(\"Division by zero occurred.\")\n",
        "    print(\"Error: Division by zero! (logged in error.log)\")\n"
      ],
      "metadata": {
        "colab": {
          "base_uri": "https://localhost:8080/"
        },
        "id": "NScMEAaEqllo",
        "outputId": "c4f23e1d-783b-470d-db06-a28d7b7ee82b"
      },
      "execution_count": 24,
      "outputs": [
        {
          "output_type": "stream",
          "name": "stderr",
          "text": [
            "ERROR:root:Division by zero occurred.\n"
          ]
        },
        {
          "output_type": "stream",
          "name": "stdout",
          "text": [
            "Error: Division by zero! (logged in error.log)\n"
          ]
        }
      ]
    },
    {
      "cell_type": "code",
      "source": [
        "#How do you log information at different levels (INFO, ERROR, WARNING) in Python using the logging module\n",
        "import logging\n",
        "\n",
        "\n",
        "# Configure logging to display messages on console\n",
        "logging.basicConfig(level=logging.DEBUG, format=\"%(levelname)s: %(message)s\")\n",
        "\n",
        "\n",
        "# Logging at different levels\n",
        "logging.info(\"This is an info message.\")\n",
        "logging.warning(\"This is a warning message.\")\n",
        "logging.error(\"This is an error message.\")\n"
      ],
      "metadata": {
        "colab": {
          "base_uri": "https://localhost:8080/"
        },
        "id": "3RcUuAhnqpxo",
        "outputId": "2c610de1-a685-45fb-b4e6-de7c03d545a2"
      },
      "execution_count": 25,
      "outputs": [
        {
          "output_type": "stream",
          "name": "stderr",
          "text": [
            "WARNING:root:This is a warning message.\n",
            "ERROR:root:This is an error message.\n"
          ]
        }
      ]
    },
    {
      "cell_type": "code",
      "source": [
        "#Write a program to handle a file opening error using exception handling\n",
        "try:\n",
        "    file = open(\"nonexistent.txt\", \"r\")   # trying to open a file that doesn't exist\n",
        "    content = file.read()\n",
        "    file.close()\n",
        "    print(\"File content:\", content)\n",
        "\n",
        "\n",
        "except FileNotFoundError:\n",
        "    print(\"Error: File not found.\")\n"
      ],
      "metadata": {
        "colab": {
          "base_uri": "https://localhost:8080/"
        },
        "id": "a1A9JEDfq01B",
        "outputId": "74c1b3b7-d9dc-4de2-b9b9-b716b02e7510"
      },
      "execution_count": 26,
      "outputs": [
        {
          "output_type": "stream",
          "name": "stdout",
          "text": [
            "Error: File not found.\n"
          ]
        }
      ]
    },
    {
      "cell_type": "code",
      "source": [
        "#How can you read a file line by line and store its content in a list in Python\n",
        " # Open the file in read mode\n",
        "with open(\"example.txt\", \"r\") as file:\n",
        "    lines = file.readlines()   # stores all lines in a list\n",
        "\n",
        "\n",
        "print(\"List of lines:\", lines)\n"
      ],
      "metadata": {
        "colab": {
          "base_uri": "https://localhost:8080/"
        },
        "id": "sjfHuF5mq3yH",
        "outputId": "32241b68-76b9-428b-ae57-daf7f9902eca"
      },
      "execution_count": 27,
      "outputs": [
        {
          "output_type": "stream",
          "name": "stdout",
          "text": [
            "List of lines: ['Hello, this is my first file write in Python!']\n"
          ]
        }
      ]
    },
    {
      "cell_type": "code",
      "source": [
        "#How can you append data to an existing file in Python\n",
        "# Append new data to the file\n",
        "with open(\"example.txt\", \"a\") as file:\n",
        "    file.write(\"This is an appended line.\\n\")\n",
        "\n",
        "\n",
        "# Read the file again to see the updated content\n",
        "with open(\"example.txt\", \"r\") as file:\n",
        "    content = file.read()\n",
        "\n",
        "\n",
        "print(\"Updated File Content:\\n\", content)\n",
        "\n",
        "\n"
      ],
      "metadata": {
        "colab": {
          "base_uri": "https://localhost:8080/"
        },
        "id": "RRrFhFP-q7AH",
        "outputId": "6a176561-161f-4570-80b8-eabaf763791b"
      },
      "execution_count": 28,
      "outputs": [
        {
          "output_type": "stream",
          "name": "stdout",
          "text": [
            "Updated File Content:\n",
            " Hello, this is my first file write in Python!This is an appended line.\n",
            "\n"
          ]
        }
      ]
    },
    {
      "cell_type": "code",
      "source": [
        "#Write a Python program that uses a try-except block to handle an error when attempting to access a dictionary key that doesn't exist\n",
        "# Dictionary\n",
        "my_dict = {\"name\": \"Aviraj\", \"age\": 20}\n",
        "\n",
        "\n",
        "try:\n",
        "    # Trying to access a key that doesn't exist\n",
        "    print(\"City:\", my_dict[\"city\"])\n",
        "\n",
        "\n",
        "except KeyError:\n",
        "    print(\"Error: The key does not exist in the dictionary.\")\n"
      ],
      "metadata": {
        "colab": {
          "base_uri": "https://localhost:8080/"
        },
        "id": "X2gTK-jcq-wX",
        "outputId": "633749b8-70da-4058-f021-750aa34a42cf"
      },
      "execution_count": 29,
      "outputs": [
        {
          "output_type": "stream",
          "name": "stdout",
          "text": [
            "Error: The key does not exist in the dictionary.\n"
          ]
        }
      ]
    },
    {
      "cell_type": "code",
      "source": [
        "#How would you check if a file exists before attempting to read it in Python\n",
        "import os\n",
        "\n",
        "\n",
        "filename = \"sample.txt\"\n",
        "\n",
        "\n",
        "if os.path.exists(filename):\n",
        "    with open(filename, \"r\") as f:\n",
        "        content = f.read()\n",
        "        print(\"File content:\\n\", content)\n",
        "else:\n",
        "    print(\"Error: File does not exist.\")\n"
      ],
      "metadata": {
        "colab": {
          "base_uri": "https://localhost:8080/"
        },
        "id": "C-kmWkYLrJP_",
        "outputId": "ebf0ca91-2089-4f3e-ed74-48440d5c70c0"
      },
      "execution_count": 31,
      "outputs": [
        {
          "output_type": "stream",
          "name": "stdout",
          "text": [
            "Error: File does not exist.\n"
          ]
        }
      ]
    },
    {
      "cell_type": "code",
      "source": [
        "#Write a program that uses the logging module to log both informational and error messages\n",
        "import logging\n",
        "\n",
        "\n",
        "# Configure logging to write messages to a file\n",
        "logging.basicConfig(filename=\"app.log\", level=logging.INFO,\n",
        "                    format=\"%(levelname)s:%(message)s\")\n",
        "\n",
        "\n",
        "# Log an informational message\n",
        "logging.info(\"Program started successfully.\")\n",
        "\n",
        "\n",
        "try:\n",
        "    x = 10 / 0   # This will raise ZeroDivisionError\n",
        "except ZeroDivisionError:\n",
        "    logging.error(\"Error: Division by zero occurred!\")\n",
        "\n",
        "\n",
        "print(\"Logging complete. Check 'app.log' file for messages.\")\n"
      ],
      "metadata": {
        "colab": {
          "base_uri": "https://localhost:8080/"
        },
        "id": "NCb5il4mrOxo",
        "outputId": "2c6ff1c7-c3fb-4dd7-bddd-d54ea748f6ec"
      },
      "execution_count": 32,
      "outputs": [
        {
          "output_type": "stream",
          "name": "stderr",
          "text": [
            "ERROR:root:Error: Division by zero occurred!\n"
          ]
        },
        {
          "output_type": "stream",
          "name": "stdout",
          "text": [
            "Logging complete. Check 'app.log' file for messages.\n"
          ]
        }
      ]
    },
    {
      "cell_type": "code",
      "source": [
        "#Write a Python program that prints the content of a file and handles the case when the file is empty\n",
        "filename = \"sample.txt\"\n",
        "\n",
        "\n",
        "try:\n",
        "    with open(filename, \"r\") as f:\n",
        "        content = f.read()\n",
        "\n",
        "\n",
        "        if content.strip() == \"\":\n",
        "            print(\"The file is empty.\")\n",
        "        else:\n",
        "            print(\"File content:\\n\", content)\n",
        "\n",
        "\n",
        "except FileNotFoundError:\n",
        "    print(\"Error: File not found.\")\n"
      ],
      "metadata": {
        "colab": {
          "base_uri": "https://localhost:8080/"
        },
        "id": "rWJ_suvgrTvv",
        "outputId": "d95d4e51-ce8a-4101-cbf3-e64a8955432a"
      },
      "execution_count": 33,
      "outputs": [
        {
          "output_type": "stream",
          "name": "stdout",
          "text": [
            "Error: File not found.\n"
          ]
        }
      ]
    },
    {
      "cell_type": "code",
      "source": [
        "#Demonstrate how to use memory profiling to check the memory usage of a small program\n",
        " pip install memory-profiler\n",
        "# memory_test.py\n",
        "@profile\n",
        "def create_list():\n",
        "    data = [i for i in range(100000)]  # create a large list\n",
        "    print(\"List created with\", len(data), \"elements\")\n",
        "\n",
        "create_list()\n",
        "python -m memory_profiler memory_test.py\n",
        "\n",
        "\n",
        "\n",
        "\n"
      ],
      "metadata": {
        "colab": {
          "base_uri": "https://localhost:8080/",
          "height": 106
        },
        "id": "r0eo7-MOrW5_",
        "outputId": "83465e0b-de5e-4f80-9935-d9dad4283e19"
      },
      "execution_count": 37,
      "outputs": [
        {
          "output_type": "error",
          "ename": "IndentationError",
          "evalue": "unexpected indent (ipython-input-749141430.py, line 2)",
          "traceback": [
            "\u001b[0;36m  File \u001b[0;32m\"/tmp/ipython-input-749141430.py\"\u001b[0;36m, line \u001b[0;32m2\u001b[0m\n\u001b[0;31m    pip install memory-profiler\u001b[0m\n\u001b[0m    ^\u001b[0m\n\u001b[0;31mIndentationError\u001b[0m\u001b[0;31m:\u001b[0m unexpected indent\n"
          ]
        }
      ]
    },
    {
      "cell_type": "code",
      "source": [
        "#Write a Python program to create and write a list of numbers to a file, one number per line\n",
        "# List of numbers\n",
        "numbers = [10, 20, 30, 40, 50]\n",
        "\n",
        "\n",
        "# Open file in write mode\n",
        "with open(\"numbers.txt\", \"w\") as f:\n",
        "    for num in numbers:\n",
        "        f.write(str(num) + \"\\n\")   # Write each number followed by newline\n",
        "\n",
        "\n",
        "print(\"Numbers written to numbers.txt successfully!\")\n"
      ],
      "metadata": {
        "colab": {
          "base_uri": "https://localhost:8080/"
        },
        "id": "2vgU2gJHruBg",
        "outputId": "f128a684-cf36-481d-b73c-6650f2178a47"
      },
      "execution_count": 38,
      "outputs": [
        {
          "output_type": "stream",
          "name": "stdout",
          "text": [
            "Numbers written to numbers.txt successfully!\n"
          ]
        }
      ]
    },
    {
      "cell_type": "code",
      "source": [
        "#How would you implement a basic logging setup that logs to a file with rotation after 1MB\n",
        "import logging\n",
        "from logging.handlers import RotatingFileHandler\n",
        "\n",
        "\n",
        "# Create a rotating file handler\n",
        "handler = RotatingFileHandler(\n",
        "    \"app.log\", maxBytes=1*1024*1024, backupCount=3\n",
        ")\n",
        "# maxBytes = 1MB\n",
        "# backupCount = number of old log files to keep (e.g., app.log.1, app.log.2)\n",
        "\n",
        "\n",
        "# Configure logging\n",
        "logging.basicConfig(\n",
        "    level=logging.INFO,\n",
        "    format=\"%(asctime)s - %(levelname)s - %(message)s\",\n",
        "    handlers=[handler]\n",
        ")\n",
        "\n",
        "\n",
        "# Generate logs for testing\n",
        "for i in range(10000):\n",
        "    logging.info(f\"Logging message number {i}\")\n"
      ],
      "metadata": {
        "id": "fXaPejBfrxY_"
      },
      "execution_count": 39,
      "outputs": []
    },
    {
      "cell_type": "code",
      "source": [
        "#Write a program that handles both IndexError and KeyError using a try-except block\n",
        "# Sample list and dictionary\n",
        "numbers = [1, 2, 3]\n",
        "person = {\"name\": \"Aviraj\", \"age\": 21}\n",
        "\n",
        "\n",
        "try:\n",
        "    # This will raise IndexError\n",
        "    print(\"Accessing list element:\", numbers[5])\n",
        "\n",
        "\n",
        "    # This will raise KeyError\n",
        "    print(\"Accessing dictionary key:\", person[\"city\"])\n",
        "\n",
        "\n",
        "except IndexError:\n",
        "    print(\"Error: Tried to access an index that does not exist in the list.\")\n",
        "\n",
        "\n",
        "except KeyError:\n",
        "    print(\"Error: Tried to access a key that does not exist in the dictionary.\")\n"
      ],
      "metadata": {
        "colab": {
          "base_uri": "https://localhost:8080/"
        },
        "id": "W3mev3c5r1J4",
        "outputId": "39f5c31a-d676-4414-bd7a-15e133e2c023"
      },
      "execution_count": 40,
      "outputs": [
        {
          "output_type": "stream",
          "name": "stdout",
          "text": [
            "Error: Tried to access an index that does not exist in the list.\n"
          ]
        }
      ]
    },
    {
      "cell_type": "code",
      "source": [
        "#How would you open a file and read its contents using a context manager in Python\n",
        " # Open file in read mode using context manager\n",
        "with open(\"example.txt\", \"r\") as file:\n",
        "    contents = file.read()\n",
        "    print(\"File contents:\\n\", contents)\n"
      ],
      "metadata": {
        "colab": {
          "base_uri": "https://localhost:8080/"
        },
        "id": "uWl5ij7er4Xn",
        "outputId": "efceed48-8ef0-4876-cb8e-2ea1761ef9c6"
      },
      "execution_count": 41,
      "outputs": [
        {
          "output_type": "stream",
          "name": "stdout",
          "text": [
            "File contents:\n",
            " Hello, this is my first file write in Python!This is an appended line.\n",
            "\n"
          ]
        }
      ]
    },
    {
      "cell_type": "code",
      "source": [
        "#Write a Python program that reads a file and prints the number of occurrences of a specific word\n",
        "# Ask user for the word to count\n",
        "word_to_count = \"Python\"\n",
        "\n",
        "\n",
        "# Open and read the file\n",
        "with open(\"example.txt\", \"r\") as file:\n",
        "    contents = file.read()\n",
        "\n",
        "\n",
        "# Count occurrences (case-sensitive)\n",
        "count = contents.count(word_to_count)\n",
        "\n",
        "\n",
        "print(f\"The word '{word_to_count}' occurs {count} times in the file.\")\n"
      ],
      "metadata": {
        "colab": {
          "base_uri": "https://localhost:8080/"
        },
        "id": "FWyeakJDr7Xw",
        "outputId": "af017940-b5ed-4cf0-c150-9ac16a9d1d49"
      },
      "execution_count": 42,
      "outputs": [
        {
          "output_type": "stream",
          "name": "stdout",
          "text": [
            "The word 'Python' occurs 1 times in the file.\n"
          ]
        }
      ]
    },
    {
      "cell_type": "code",
      "source": [
        "# How can you check if a file is empty before attempting to read its contents\n",
        "import os\n",
        "\n",
        "\n",
        "filename = \"example.txt\"\n",
        "\n",
        "\n",
        "# Check if file exists and size\n",
        "if os.path.exists(filename) and os.path.getsize(filename) == 0:\n",
        "    print(\"The file is empty.\")\n",
        "else:\n",
        "    with open(filename, \"r\") as f:\n",
        "        print(\"File contents:\\n\", f.read())\n",
        "\n",
        "\n"
      ],
      "metadata": {
        "colab": {
          "base_uri": "https://localhost:8080/"
        },
        "id": "g9CIhA--r-y_",
        "outputId": "acc96034-258f-4fa7-c3a8-b4cc9ddce8cb"
      },
      "execution_count": 43,
      "outputs": [
        {
          "output_type": "stream",
          "name": "stdout",
          "text": [
            "File contents:\n",
            " Hello, this is my first file write in Python!This is an appended line.\n",
            "\n"
          ]
        }
      ]
    },
    {
      "cell_type": "code",
      "source": [
        "#Write a Python program that writes to a log file when an error occurs during file handling\n",
        "# Configure logging to write to a file\n",
        "logging.basicConfig(filename=\"error.log\", level=logging.ERROR,\n",
        "                    format=\"%(levelname)s: %(message)s\")\n",
        "\n",
        "try:\n",
        "    # Try to open a file that doesn't exist\n",
        "    with open(\"nonexistent.txt\", \"r\") as f:\n",
        "        content = f.read()\n",
        "\n",
        "except FileNotFoundError:\n",
        "    logging.error(\"File not found!\")\n",
        "    print(\"An error occurred. Check 'error.log'.\")\n",
        "\n"
      ],
      "metadata": {
        "colab": {
          "base_uri": "https://localhost:8080/"
        },
        "id": "oW0BifPPsKq3",
        "outputId": "f0c09c0e-a4cd-4095-fc42-a26ecb6b4a48"
      },
      "execution_count": 50,
      "outputs": [
        {
          "output_type": "stream",
          "name": "stderr",
          "text": [
            "ERROR:root:File not found!\n"
          ]
        },
        {
          "output_type": "stream",
          "name": "stdout",
          "text": [
            "An error occurred. Check 'error.log'.\n"
          ]
        }
      ]
    }
  ]
}